{
 "cells": [
  {
   "cell_type": "code",
   "execution_count": 5,
   "metadata": {},
   "outputs": [
    {
     "ename": "KeyboardInterrupt",
     "evalue": "",
     "output_type": "error",
     "traceback": [
      "\u001b[0;31m---------------------------------------------------------------------------\u001b[0m",
      "\u001b[0;31mKeyboardInterrupt\u001b[0m                         Traceback (most recent call last)",
      "\u001b[0;32m/var/folders/tb/wbyt_yqs42qc9j88w75fvjq40000gn/T/ipykernel_3536/1824023055.py\u001b[0m in \u001b[0;36m<module>\u001b[0;34m\u001b[0m\n\u001b[1;32m     30\u001b[0m \u001b[0;34m\u001b[0m\u001b[0m\n\u001b[1;32m     31\u001b[0m         \u001b[0;31m# Wait for 1 second before generating next network traffic data\u001b[0m\u001b[0;34m\u001b[0m\u001b[0;34m\u001b[0m\u001b[0m\n\u001b[0;32m---> 32\u001b[0;31m         \u001b[0mtime\u001b[0m\u001b[0;34m.\u001b[0m\u001b[0msleep\u001b[0m\u001b[0;34m(\u001b[0m\u001b[0;36m1\u001b[0m\u001b[0;34m)\u001b[0m\u001b[0;34m\u001b[0m\u001b[0;34m\u001b[0m\u001b[0m\n\u001b[0m",
      "\u001b[0;31mKeyboardInterrupt\u001b[0m: "
     ]
    }
   ],
   "source": [
    "from confluent_kafka import Producer\n",
    "from datetime import datetime\n",
    "import random\n",
    "import time\n",
    "\n",
    "# Create a Kafka producer configuration\n",
    "producer_config = {\n",
    "    'bootstrap.servers': 'localhost:9092',\n",
    "    'client.id': 'my_producer'\n",
    "}\n",
    "\n",
    "# Create a Kafka producer instance\n",
    "producer = Producer(producer_config)\n",
    "\n",
    "# Define the Kafka topic to produce messages to\n",
    "topic = 'network-traffic'\n",
    "\n",
    "while True:\n",
    "        # Generate random network traffic data\n",
    "        source_ip = '.'.join(str(random.randint(0, 255)) for _ in range(4))\n",
    "        destination_ip = '.'.join(str(random.randint(0, 255)) for _ in range(4))\n",
    "        bytes = random.randint(1000, 100000)\n",
    "        protocol = random.choice([\"https\",\"http\",\"ftp\"])\n",
    "        timestamp =  time.time()\n",
    "        \n",
    "\n",
    "        # Publish network traffic data to Kafka topic\n",
    "        producer.produce(topic, f\"{source_ip},{destination_ip},{bytes},{protocol},{timestamp}\".encode('utf-8'))\n",
    "        producer.flush()\n",
    "\n",
    "        # Wait for 1 second before generating next network traffic data\n",
    "        time.sleep(1)\n"
   ]
  }
 ],
 "metadata": {
  "kernelspec": {
   "display_name": "base",
   "language": "python",
   "name": "python3"
  },
  "language_info": {
   "codemirror_mode": {
    "name": "ipython",
    "version": 3
   },
   "file_extension": ".py",
   "mimetype": "text/x-python",
   "name": "python",
   "nbconvert_exporter": "python",
   "pygments_lexer": "ipython3",
   "version": "3.9.13"
  },
  "orig_nbformat": 4,
  "vscode": {
   "interpreter": {
    "hash": "6c606041d7f3945e33ec85d94395ab6e1caa578dd418ab71041339227480199b"
   }
  }
 },
 "nbformat": 4,
 "nbformat_minor": 2
}
